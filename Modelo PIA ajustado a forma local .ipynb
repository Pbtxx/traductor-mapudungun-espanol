{
 "cells": [
  {
   "cell_type": "code",
   "execution_count": 1,
   "metadata": {},
   "outputs": [
    {
     "name": "stdout",
     "output_type": "stream",
     "text": [
      "Requirement already satisfied: pandas in c:\\users\\olate\\onedrive\\escritorio\\pia traductor\\myenv\\lib\\site-packages (2.2.3)\n",
      "Requirement already satisfied: numpy>=1.23.2 in c:\\users\\olate\\onedrive\\escritorio\\pia traductor\\myenv\\lib\\site-packages (from pandas) (1.26.3)\n",
      "Requirement already satisfied: python-dateutil>=2.8.2 in c:\\users\\olate\\onedrive\\escritorio\\pia traductor\\myenv\\lib\\site-packages (from pandas) (2.9.0.post0)\n",
      "Requirement already satisfied: pytz>=2020.1 in c:\\users\\olate\\onedrive\\escritorio\\pia traductor\\myenv\\lib\\site-packages (from pandas) (2024.2)\n",
      "Requirement already satisfied: tzdata>=2022.7 in c:\\users\\olate\\onedrive\\escritorio\\pia traductor\\myenv\\lib\\site-packages (from pandas) (2024.2)\n",
      "Requirement already satisfied: six>=1.5 in c:\\users\\olate\\onedrive\\escritorio\\pia traductor\\myenv\\lib\\site-packages (from python-dateutil>=2.8.2->pandas) (1.16.0)\n"
     ]
    },
    {
     "name": "stderr",
     "output_type": "stream",
     "text": [
      "\n",
      "[notice] A new release of pip available: 22.3 -> 24.2\n",
      "[notice] To update, run: python.exe -m pip install --upgrade pip\n"
     ]
    },
    {
     "name": "stdout",
     "output_type": "stream",
     "text": [
      "Requirement already satisfied: torch in c:\\users\\olate\\onedrive\\escritorio\\pia traductor\\myenv\\lib\\site-packages (2.0.1+cu117)\n",
      "Requirement already satisfied: transformers in c:\\users\\olate\\onedrive\\escritorio\\pia traductor\\myenv\\lib\\site-packages (4.45.2)\n",
      "Requirement already satisfied: filelock in c:\\users\\olate\\onedrive\\escritorio\\pia traductor\\myenv\\lib\\site-packages (from torch) (3.13.1)\n",
      "Requirement already satisfied: typing-extensions in c:\\users\\olate\\onedrive\\escritorio\\pia traductor\\myenv\\lib\\site-packages (from torch) (4.9.0)\n",
      "Requirement already satisfied: sympy in c:\\users\\olate\\onedrive\\escritorio\\pia traductor\\myenv\\lib\\site-packages (from torch) (1.13.1)\n",
      "Requirement already satisfied: networkx in c:\\users\\olate\\onedrive\\escritorio\\pia traductor\\myenv\\lib\\site-packages (from torch) (3.2.1)\n",
      "Requirement already satisfied: jinja2 in c:\\users\\olate\\onedrive\\escritorio\\pia traductor\\myenv\\lib\\site-packages (from torch) (3.1.3)\n",
      "Requirement already satisfied: huggingface-hub<1.0,>=0.23.2 in c:\\users\\olate\\onedrive\\escritorio\\pia traductor\\myenv\\lib\\site-packages (from transformers) (0.26.1)\n",
      "Requirement already satisfied: numpy>=1.17 in c:\\users\\olate\\onedrive\\escritorio\\pia traductor\\myenv\\lib\\site-packages (from transformers) (1.26.3)\n",
      "Requirement already satisfied: packaging>=20.0 in c:\\users\\olate\\onedrive\\escritorio\\pia traductor\\myenv\\lib\\site-packages (from transformers) (24.1)\n",
      "Requirement already satisfied: pyyaml>=5.1 in c:\\users\\olate\\onedrive\\escritorio\\pia traductor\\myenv\\lib\\site-packages (from transformers) (6.0.2)\n",
      "Requirement already satisfied: regex!=2019.12.17 in c:\\users\\olate\\onedrive\\escritorio\\pia traductor\\myenv\\lib\\site-packages (from transformers) (2024.9.11)\n",
      "Requirement already satisfied: requests in c:\\users\\olate\\onedrive\\escritorio\\pia traductor\\myenv\\lib\\site-packages (from transformers) (2.32.3)\n",
      "Requirement already satisfied: safetensors>=0.4.1 in c:\\users\\olate\\onedrive\\escritorio\\pia traductor\\myenv\\lib\\site-packages (from transformers) (0.4.5)\n",
      "Requirement already satisfied: tokenizers<0.21,>=0.20 in c:\\users\\olate\\onedrive\\escritorio\\pia traductor\\myenv\\lib\\site-packages (from transformers) (0.20.1)\n",
      "Requirement already satisfied: tqdm>=4.27 in c:\\users\\olate\\onedrive\\escritorio\\pia traductor\\myenv\\lib\\site-packages (from transformers) (4.66.5)\n",
      "Requirement already satisfied: fsspec>=2023.5.0 in c:\\users\\olate\\onedrive\\escritorio\\pia traductor\\myenv\\lib\\site-packages (from huggingface-hub<1.0,>=0.23.2->transformers) (2024.10.0)\n",
      "Requirement already satisfied: colorama in c:\\users\\olate\\onedrive\\escritorio\\pia traductor\\myenv\\lib\\site-packages (from tqdm>=4.27->transformers) (0.4.6)\n",
      "Requirement already satisfied: MarkupSafe>=2.0 in c:\\users\\olate\\onedrive\\escritorio\\pia traductor\\myenv\\lib\\site-packages (from jinja2->torch) (2.1.5)\n",
      "Requirement already satisfied: charset-normalizer<4,>=2 in c:\\users\\olate\\onedrive\\escritorio\\pia traductor\\myenv\\lib\\site-packages (from requests->transformers) (2.1.1)\n",
      "Requirement already satisfied: idna<4,>=2.5 in c:\\users\\olate\\onedrive\\escritorio\\pia traductor\\myenv\\lib\\site-packages (from requests->transformers) (3.4)\n",
      "Requirement already satisfied: urllib3<3,>=1.21.1 in c:\\users\\olate\\onedrive\\escritorio\\pia traductor\\myenv\\lib\\site-packages (from requests->transformers) (1.26.13)\n",
      "Requirement already satisfied: certifi>=2017.4.17 in c:\\users\\olate\\onedrive\\escritorio\\pia traductor\\myenv\\lib\\site-packages (from requests->transformers) (2022.12.7)\n",
      "Requirement already satisfied: mpmath<1.4,>=1.1.0 in c:\\users\\olate\\onedrive\\escritorio\\pia traductor\\myenv\\lib\\site-packages (from sympy->torch) (1.3.0)\n"
     ]
    },
    {
     "name": "stderr",
     "output_type": "stream",
     "text": [
      "\n",
      "[notice] A new release of pip available: 22.3 -> 24.2\n",
      "[notice] To update, run: python.exe -m pip install --upgrade pip\n"
     ]
    },
    {
     "name": "stdout",
     "output_type": "stream",
     "text": [
      "Requirement already satisfied: scikit-learn in c:\\users\\olate\\onedrive\\escritorio\\pia traductor\\myenv\\lib\\site-packages (1.5.2)\n",
      "Requirement already satisfied: numpy>=1.19.5 in c:\\users\\olate\\onedrive\\escritorio\\pia traductor\\myenv\\lib\\site-packages (from scikit-learn) (1.26.3)\n",
      "Requirement already satisfied: scipy>=1.6.0 in c:\\users\\olate\\onedrive\\escritorio\\pia traductor\\myenv\\lib\\site-packages (from scikit-learn) (1.14.1)\n",
      "Requirement already satisfied: joblib>=1.2.0 in c:\\users\\olate\\onedrive\\escritorio\\pia traductor\\myenv\\lib\\site-packages (from scikit-learn) (1.4.2)\n",
      "Requirement already satisfied: threadpoolctl>=3.1.0 in c:\\users\\olate\\onedrive\\escritorio\\pia traductor\\myenv\\lib\\site-packages (from scikit-learn) (3.5.0)\n"
     ]
    },
    {
     "name": "stderr",
     "output_type": "stream",
     "text": [
      "\n",
      "[notice] A new release of pip available: 22.3 -> 24.2\n",
      "[notice] To update, run: python.exe -m pip install --upgrade pip\n"
     ]
    }
   ],
   "source": [
    "# Instalar las bibliotecas necesarias si aún no están instaladas\n",
    "# Ejecuta estas líneas de instalación en tu terminal o anótalas en un script separado de instalación\n",
    "# !pip install transformers pandas torch\n",
    "\n",
    "!pip3 install pandas\n",
    "!pip3 install torch transformers\n",
    "!pip3 install scikit-learn\n"
   ]
  },
  {
   "cell_type": "code",
   "execution_count": null,
   "metadata": {
    "id": "gAtgcfkYsKE8"
   },
   "outputs": [
    {
     "name": "stderr",
     "output_type": "stream",
     "text": [
      "C:\\Users\\olate\\OneDrive\\Escritorio\\PIA Traductor\\myenv\\Lib\\site-packages\\tqdm\\auto.py:21: TqdmWarning: IProgress not found. Please update jupyter and ipywidgets. See https://ipywidgets.readthedocs.io/en/stable/user_install.html\n",
      "  from .autonotebook import tqdm as notebook_tqdm\n"
     ]
    },
    {
     "name": "stdout",
     "output_type": "stream",
     "text": [
      "Usando dispositivo: cuda\n"
     ]
    },
    {
     "name": "stderr",
     "output_type": "stream",
     "text": [
      "You are using the default legacy behaviour of the <class 'transformers.models.t5.tokenization_t5.T5Tokenizer'>. This is expected, and simply means that the `legacy` (previous) behavior will be used so nothing changes for you. If you want to use the new behaviour, set `legacy=False`. This should only be set if you understand what it means, and thoroughly read the reason why this was added as explained in https://github.com/huggingface/transformers/pull/24565\n",
      "C:\\Users\\olate\\OneDrive\\Escritorio\\PIA Traductor\\myenv\\Lib\\site-packages\\transformers\\optimization.py:591: FutureWarning: This implementation of AdamW is deprecated and will be removed in a future version. Use the PyTorch implementation torch.optim.AdamW instead, or set `no_deprecation_warning=True` to disable this warning\n",
      "  warnings.warn(\n",
      "Epoch 1/5: 100%|██████████████████████████████████████████████████████████████████████████████████████████████████████████████████████████████████████████████████████████████████| 40323/40323 [1:14:43<00:00,  8.99it/s, loss=1.3100, accuracy=0.7403, learning_rate=0.000080]\n"
     ]
    },
    {
     "name": "stdout",
     "output_type": "stream",
     "text": [
      "Epoch 1/5\n",
      "  Average Loss: 1.1584\n",
      "  Average Accuracy: 0.7542\n",
      "  Learning Rate: 0.000080\n",
      " Validation Loss: 0.8619\n",
      " Validation Accuracy: 0.8029\n",
      " Nuevo mejor modelo guardado\n"
     ]
    },
    {
     "name": "stderr",
     "output_type": "stream",
     "text": [
      "Epoch 2/5: 100%|██████████████████████████████████████████████████████████████████████████████████████████████████████████████████████████████████████████████████████████████████| 40323/40323 [1:15:16<00:00,  8.93it/s, loss=1.0623, accuracy=0.7682, learning_rate=0.000060]\n"
     ]
    },
    {
     "name": "stdout",
     "output_type": "stream",
     "text": [
      "Epoch 2/5\n",
      "  Average Loss: 0.8964\n",
      "  Average Accuracy: 0.7948\n",
      "  Learning Rate: 0.000060\n",
      " Validation Loss: 0.7661\n",
      " Validation Accuracy: 0.8193\n",
      " Nuevo mejor modelo guardado\n"
     ]
    },
    {
     "name": "stderr",
     "output_type": "stream",
     "text": [
      "Epoch 3/5:   1%|▉                                                                                                                                                                   | 231/40323 [00:26<1:15:49,  8.81it/s, loss=1.2123, accuracy=0.7535, learning_rate=0.000060]"
     ]
    }
   ],
   "source": [
    "import pandas as pd\n",
    "import torch\n",
    "from torch.utils.data import Dataset, DataLoader\n",
    "from transformers import T5Tokenizer, T5ForConditionalGeneration, AdamW, get_linear_schedule_with_warmup\n",
    "from torch.nn.utils.rnn import pad_sequence\n",
    "from tqdm import tqdm\n",
    "import numpy as np\n",
    "from sklearn.metrics import accuracy_score\n",
    "\n",
    "# Configurar el dispositivo\n",
    "device = torch.device('cuda' if torch.cuda.is_available() else 'cpu')\n",
    "print(f\"Usando dispositivo: {device}\")\n",
    "\n",
    "# Configurar el modelo y el tokenizer T5\n",
    "model_name = 't5-small'  # Seleccionar el modelo preentrenado\n",
    "tokenizer = T5Tokenizer.from_pretrained(model_name)\n",
    "model = T5ForConditionalGeneration.from_pretrained(model_name).to(device)\n",
    "\n",
    "# Cargar el dataset\n",
    "dataset_path = 'C:/Users/olate/OneDrive/Escritorio/PIA Traductor/Dataset_Final_Limpio_V2.txt'\n",
    "df = pd.read_csv(dataset_path, sep=',')\n",
    "df.head()\n",
    "\n",
    "class TranslationDataset(Dataset):\n",
    "    def __init__(self, data, tokenizer, max_length=128):\n",
    "        self.data = data.dropna().reset_index(drop=True)  # Eliminar filas con NaN\n",
    "        self.tokenizer = tokenizer\n",
    "        self.max_length = max_length\n",
    "\n",
    "    def __len__(self):\n",
    "        return len(self.data) * 2  # Duplicamos el tamaño para incluir ambas direcciones\n",
    "\n",
    "    def __getitem__(self, index):\n",
    "        real_index = index // 2    # Ajustar el índice real\n",
    "        is_reverse = index % 2 == 1  # Indica si es una traducción inversa (de español a Mapu)\n",
    "\n",
    "        if is_reverse:\n",
    "            input_text = f\"translate Spanish to Mapudungun: {self.data.iloc[real_index]['Español']}\"\n",
    "            target_text = self.data.iloc[real_index]['Mapudungun']\n",
    "        else:\n",
    "            input_text = f\"translate Mapudungun to Spanish: {self.data.iloc[real_index]['Mapudungun']}\"\n",
    "            target_text = self.data.iloc[real_index]['Español']\n",
    "\n",
    "        input_ids = self.tokenizer.encode(input_text, return_tensors='pt', max_length=self.max_length, truncation=True)\n",
    "        target_ids = self.tokenizer.encode(target_text, return_tensors='pt', max_length=self.max_length, truncation=True)\n",
    "\n",
    "        return {\n",
    "            'input_ids': input_ids.flatten(),\n",
    "            'target_ids': target_ids.flatten()\n",
    "        }\n",
    "\n",
    "# Preparar el dataset con DataLoader y padding dinámico\n",
    "def collate_fn(batch):\n",
    "    input_ids = [item['input_ids'] for item in batch]\n",
    "    target_ids = [item['target_ids'] for item in batch]\n",
    "\n",
    "    # Padding dinámico\n",
    "    input_ids = pad_sequence(input_ids, batch_first=True)\n",
    "    target_ids = pad_sequence(target_ids, batch_first=True)\n",
    "\n",
    "    return {\n",
    "        'input_ids': input_ids,\n",
    "        'target_ids': target_ids\n",
    "    }\n",
    "\n",
    "# Crear DataLoader con collate_fn personalizado\n",
    "dataset = TranslationDataset(df, tokenizer)\n",
    "\n",
    "# Dividir el dataset en entrenamiento y validación\n",
    "total_size = len(dataset)\n",
    "train_size = int(0.8 * total_size) # 80% para entrenamiento\n",
    "val_size = total_size - train_size # 20% para validación\n",
    "\n",
    "train_dataset, val_dataset = torch.utils.data.random_split(dataset, [train_size, val_size])\n",
    "\n",
    "# Crear DataLoader para entrenamiento y validación\n",
    "train_dataloader = DataLoader(train_dataset, batch_size=16, shuffle=True, collate_fn=collate_fn)\n",
    "val_dataloader = DataLoader(val_dataset, batch_size=16, shuffle=False, collate_fn=collate_fn)\n",
    "\n",
    "# Función para calcular la precisión\n",
    "def calculate_accuracy(predictions, targets):\n",
    "    pred_id = torch.argmax(predictions, dim=-1)\n",
    "    return accuracy_score(targets.cpu().numpy().flatten(), pred_id.cpu().numpy().flatten())\n",
    "\n",
    "# Configurar el optimizador y el scheduler\n",
    "optimizer = AdamW(model.parameters(), lr=1e-4)\n",
    "num_epochs = 5\n",
    "num_training_steps = len(train_dataloader) * num_epochs\n",
    "scheduler = get_linear_schedule_with_warmup(optimizer, num_warmup_steps=0, num_training_steps=num_training_steps)\n",
    "\n",
    "# Entrenamiento del modelo\n",
    "best_val_loss = float('inf')\n",
    "for epoch in range(num_epochs):\n",
    "    model.train()\n",
    "    total_loss = 0\n",
    "    total_accuracy = 0\n",
    "\n",
    "    progress_bar = tqdm(train_dataloader, desc=f\"Epoch {epoch + 1}/{num_epochs}\")\n",
    "\n",
    "    for batch in progress_bar:\n",
    "        optimizer.zero_grad()\n",
    "\n",
    "        input_ids = batch['input_ids'].to(device)\n",
    "        target_ids = batch['target_ids'].to(device)\n",
    "\n",
    "        outputs = model(input_ids=input_ids, labels=target_ids)\n",
    "        loss = outputs.loss\n",
    "        logits = outputs.logits\n",
    "\n",
    "        total_loss += loss.item()\n",
    "        accuracy = calculate_accuracy(logits, target_ids)\n",
    "        total_accuracy += accuracy\n",
    "\n",
    "        loss.backward()\n",
    "        torch.nn.utils.clip_grad_norm_(model.parameters(), max_norm=1.0)\n",
    "        optimizer.step()\n",
    "        scheduler.step()\n",
    "\n",
    "        progress_bar.set_postfix({\n",
    "            'loss': f\"{loss.item():.4f}\",\n",
    "            'accuracy': f\"{accuracy:.4f}\",\n",
    "            'learning_rate': f\"{scheduler.get_last_lr()[0]:.6f}\"\n",
    "        })\n",
    "    \n",
    "    avg_loss = total_loss / len(train_dataloader)\n",
    "    avg_accuracy = total_accuracy / len(train_dataloader)\n",
    "\n",
    "    print(f\"Epoch {epoch+1}/{num_epochs}\")\n",
    "    print(f\"  Average Loss: {avg_loss:.4f}\")\n",
    "    print(f\"  Average Accuracy: {avg_accuracy:.4f}\")\n",
    "    print(f\"  Learning Rate: {scheduler.get_last_lr()[0]:.6f}\")\n",
    "\n",
    "    # Evaluación en el conjunto de validación\n",
    "    model.eval()\n",
    "    val_loss = 0\n",
    "    val_accuracy = 0\n",
    "    with torch.no_grad():\n",
    "        for batch in val_dataloader:\n",
    "            input_ids = batch['input_ids'].to(device)\n",
    "            target_ids = batch['target_ids'].to(device)\n",
    "\n",
    "            outputs = model(input_ids=input_ids, labels=target_ids)\n",
    "            val_loss += outputs.loss.item()\n",
    "            val_accuracy += calculate_accuracy(outputs.logits, target_ids)\n",
    "    \n",
    "    avg_val_loss = val_loss / len(val_dataloader)\n",
    "    avg_val_accuracy = val_accuracy / len(val_dataloader)\n",
    "    print(f\" Validation Loss: {avg_val_loss:.4f}\")\n",
    "    print(f\" Validation Accuracy: {avg_val_accuracy:.4f}\")\n",
    "\n",
    "    # Guardar el mejor modelo basado en la pérdida de validación\n",
    "    if avg_val_loss < best_val_loss:\n",
    "        best_val_loss = avg_val_loss\n",
    "        torch.save(model.state_dict(), 'best_model.pth')\n",
    "        print(\" Nuevo mejor modelo guardado\")\n",
    "\n",
    "print(\"Entrenamiento completado\")\n",
    "\n",
    "# Guardar el modelo entrenado\n",
    "model.save_pretrained('/ruta/para/guardar/translator_model_final')\n",
    "print(\"Modelo guardado\")\n"
   ]
  },
  {
   "cell_type": "code",
   "execution_count": 1,
   "metadata": {
    "scrolled": true
   },
   "outputs": [
    {
     "name": "stdout",
     "output_type": "stream",
     "text": [
      "True\n",
      "1\n",
      "NVIDIA GeForce RTX 3050\n"
     ]
    }
   ],
   "source": [
    "import torch\n",
    "print(torch.cuda.is_available())  # Esto debería devolver True si la GPU está disponible\n",
    "print(torch.cuda.device_count())  # Esto debería mostrar cuántas GPUs hay disponibles\n",
    "print(torch.cuda.get_device_name(0))  # Esto debería mostrar el nombre de tu GPU\n"
   ]
  },
  {
   "cell_type": "code",
   "execution_count": null,
   "metadata": {},
   "outputs": [],
   "source": []
  }
 ],
 "metadata": {
  "colab": {
   "provenance": []
  },
  "kernelspec": {
   "display_name": "Python 3 (ipykernel)",
   "language": "python",
   "name": "python3"
  },
  "language_info": {
   "codemirror_mode": {
    "name": "ipython",
    "version": 3
   },
   "file_extension": ".py",
   "mimetype": "text/x-python",
   "name": "python",
   "nbconvert_exporter": "python",
   "pygments_lexer": "ipython3",
   "version": "3.11.0"
  }
 },
 "nbformat": 4,
 "nbformat_minor": 4
}
